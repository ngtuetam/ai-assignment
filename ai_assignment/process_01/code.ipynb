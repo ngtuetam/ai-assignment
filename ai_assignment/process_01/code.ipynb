{
 "cells": [
  {
   "cell_type": "code",
   "execution_count": 1,
   "metadata": {},
   "outputs": [],
   "source": [
    "import cv2 as cv\n",
    "import numpy as np\n",
    "import glob\n",
    "\n",
    "from cv2 import destroyAllWindows\n",
    "\n"
   ]
  },
  {
   "cell_type": "code",
   "execution_count": 22,
   "metadata": {},
   "outputs": [],
   "source": [
    "cv_img_orange = []\n",
    "for img in glob.glob(\"/home/ngtuetam/workspace/ai_assign/ai_assignment/dataset/orange/*.jpg\"):\n",
    "    n = cv.imread(img)\n",
    "    cv_img_orange.append(n)\n",
    "cv.imshow('Grayscale', cv_img_orange[1])\n",
    "cv.waitKey(0) \n",
    "cv.destroyAllWindows()"
   ]
  },
  {
   "cell_type": "code",
   "execution_count": 23,
   "metadata": {},
   "outputs": [],
   "source": [
    "cv_img_orange_gray = []\n",
    "for img in cv_img_orange:\n",
    "    img_gray = cv.cvtColor(img, cv.COLOR_BGR2GRAY)\n",
    "    cv_img_orange_gray.append(img_gray)\n",
    "\n",
    "cv.imshow('Grayscale', cv_img_orange_gray[1])\n",
    "cv.waitKey(0) \n",
    "cv.destroyAllWindows()"
   ]
  },
  {
   "cell_type": "code",
   "execution_count": 8,
   "metadata": {},
   "outputs": [],
   "source": [
    "for i in range(0, len(cv_img_orange_gray)):\n",
    "    cv.imwrite(f'/home/ngtuetam/workspace/ai_assign/ai_assignment/orange_gray/image_{i}.png',cv_img_orange_gray[i])"
   ]
  },
  {
   "cell_type": "code",
   "execution_count": 2,
   "metadata": {},
   "outputs": [],
   "source": [
    "cv_img_straw = []\n",
    "for img in glob.glob(\"/home/ngtuetam/workspace/ai_assign/ai_assignment/dataset/strawberry/*.jpg\"):\n",
    "    n = cv.imread(img)\n",
    "    cv_img_straw.append(n)\n",
    "cv.imshow('Grayscale', cv_img_straw[1])\n",
    "cv.waitKey(0) \n",
    "cv.destroyAllWindows()"
   ]
  },
  {
   "cell_type": "code",
   "execution_count": 3,
   "metadata": {},
   "outputs": [],
   "source": [
    "cv_img_straw_gray = []\n",
    "for img in cv_img_straw:\n",
    "    img_gray = cv.cvtColor(img, cv.COLOR_BGR2GRAY)\n",
    "    cv_img_straw_gray.append(img_gray)\n",
    "for i in range(0, len(cv_img_straw_gray)):\n",
    "    cv.imwrite(f'/home/ngtuetam/workspace/ai_assign/ai_assignment/straw_gray/image_{i}.png',cv_img_straw_gray[i])"
   ]
  },
  {
   "cell_type": "code",
   "execution_count": 16,
   "metadata": {},
   "outputs": [],
   "source": [
    "# (thresh, im_bw) = cv.threshold(cv_img_straw_gray[1], 128, 255, cv.THRESH_BINARY | cv.THRESH_OTSU)\n",
    "# cv.imshow('Grayscale', np.abs(255-im_bw))\n",
    "# cv.waitKey(0) \n",
    "# cv.destroyAllWindows()"
   ]
  },
  {
   "cell_type": "code",
   "execution_count": 15,
   "metadata": {},
   "outputs": [
    {
     "data": {
      "text/plain": [
       "{0, 255}"
      ]
     },
     "execution_count": 15,
     "metadata": {},
     "output_type": "execute_result"
    }
   ],
   "source": [
    "# set(list(im_bw.reshape(-1)))"
   ]
  },
  {
   "cell_type": "code",
   "execution_count": 19,
   "metadata": {},
   "outputs": [],
   "source": [
    "cv_img_straw_bin_1 = []\n",
    "for img in cv_img_straw_gray:\n",
    "    (thresh, im_bw) = cv.threshold(img, 128, 255, cv.THRESH_BINARY | cv.THRESH_OTSU)\n",
    "    cv_img_straw_bin_1.append(np.abs(255-im_bw))"
   ]
  },
  {
   "cell_type": "code",
   "execution_count": 20,
   "metadata": {},
   "outputs": [],
   "source": [
    "for i in range(0, len(cv_img_straw_bin_1)):\n",
    "    cv.imwrite(f'/home/ngtuetam/workspace/ai_assign/ai_assignment/straw_bin1/image_{i}.jpg',cv_img_straw_bin_1[i])"
   ]
  },
  {
   "cell_type": "code",
   "execution_count": 24,
   "metadata": {},
   "outputs": [],
   "source": [
    "cv_img_orange_bin = []\n",
    "for img in cv_img_orange_gray:\n",
    "    (thresh, im_bw) = cv.threshold(img, 128, 255, cv.THRESH_BINARY | cv.THRESH_OTSU)\n",
    "    cv_img_orange_bin.append(np.abs(255-im_bw))\n",
    "for i in range(0, len(cv_img_orange_bin)):\n",
    "    cv.imwrite(f'/home/ngtuetam/workspace/ai_assign/ai_assignment/orange_bin/image_{i}.jpg',cv_img_orange_bin[i])"
   ]
  },
  {
   "cell_type": "code",
   "execution_count": null,
   "metadata": {},
   "outputs": [],
   "source": []
  }
 ],
 "metadata": {
  "kernelspec": {
   "display_name": "Python 3.8.13 ('cs229')",
   "language": "python",
   "name": "python3"
  },
  "language_info": {
   "codemirror_mode": {
    "name": "ipython",
    "version": 3
   },
   "file_extension": ".py",
   "mimetype": "text/x-python",
   "name": "python",
   "nbconvert_exporter": "python",
   "pygments_lexer": "ipython3",
   "version": "3.8.13"
  },
  "orig_nbformat": 4,
  "vscode": {
   "interpreter": {
    "hash": "96bbcfff196e2c16ed1b2b5f86b6d7445ffabf454104fb90886856334ef72dbd"
   }
  }
 },
 "nbformat": 4,
 "nbformat_minor": 2
}
