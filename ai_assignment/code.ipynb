{
 "cells": [
  {
   "cell_type": "code",
   "execution_count": 1,
   "metadata": {},
   "outputs": [],
   "source": [
    "import cv2 as cv\n",
    "import numpy as np\n",
    "import glob\n",
    "\n",
    "from cv2 import destroyAllWindows\n",
    "\n",
    "image_path = \"/home/ngtuetam/workspace/ai_assignment/dataset\"\n"
   ]
  },
  {
   "cell_type": "code",
   "execution_count": 2,
   "metadata": {},
   "outputs": [],
   "source": [
    "cv_img_orange = []\n",
    "for img in glob.glob(\"/home/ngtuetam/workspace/ai_assignment/dataset/orange/*.jpg\"):\n",
    "    n = cv.imread(img)\n",
    "    cv_img_orange.append(n)\n",
    "cv.imshow('Grayscale', cv_img_orange[1])\n",
    "cv.waitKey(0) \n",
    "cv.destroyAllWindows()"
   ]
  },
  {
   "cell_type": "code",
   "execution_count": 4,
   "metadata": {},
   "outputs": [],
   "source": [
    "cv_img_orange_gray = []\n",
    "for img in cv_img_orange:\n",
    "    img_gray = cv.cvtColor(img, cv.COLOR_BGR2GRAY)\n",
    "    cv_img_orange_gray.append(img_gray)\n",
    "\n",
    "cv.imshow('Grayscale', cv_img_orange_gray[1])\n",
    "cv.waitKey(0) \n",
    "cv.destroyAllWindows()"
   ]
  },
  {
   "cell_type": "code",
   "execution_count": null,
   "metadata": {},
   "outputs": [],
   "source": []
  }
 ],
 "metadata": {
  "kernelspec": {
   "display_name": "Python 3.8.13 ('cs229')",
   "language": "python",
   "name": "python3"
  },
  "language_info": {
   "codemirror_mode": {
    "name": "ipython",
    "version": 3
   },
   "file_extension": ".py",
   "mimetype": "text/x-python",
   "name": "python",
   "nbconvert_exporter": "python",
   "pygments_lexer": "ipython3",
   "version": "3.8.13"
  },
  "orig_nbformat": 4,
  "vscode": {
   "interpreter": {
    "hash": "96bbcfff196e2c16ed1b2b5f86b6d7445ffabf454104fb90886856334ef72dbd"
   }
  }
 },
 "nbformat": 4,
 "nbformat_minor": 2
}
